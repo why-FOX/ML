{
 "cells": [
  {
   "cell_type": "code",
   "execution_count": null,
   "id": "5b83411c",
   "metadata": {},
   "outputs": [],
   "source": [
    "#检查基本信息：有无null值、数据类型、特征数量\n",
    "import pandas as pd\n",
    "data = pd.read_csv(\"../playground-series-s4e5/train.csv\")\n",
    "print(data.info())"
   ]
  },
  {
   "cell_type": "code",
   "execution_count": null,
   "id": "e35e97ce",
   "metadata": {},
   "outputs": [],
   "source": [
    "data.drop(\"id\", axis=1, inplace=True)\n",
    "data.head()"
   ]
  },
  {
   "cell_type": "code",
   "execution_count": null,
   "id": "4cb778ce",
   "metadata": {},
   "outputs": [],
   "source": [
    "#检查有无重复的行\n",
    "data.drop_duplicates(inplace = True)\n",
    "data.describe()"
   ]
  },
  {
   "cell_type": "code",
   "execution_count": null,
   "id": "24c256ac",
   "metadata": {},
   "outputs": [],
   "source": [
    "#分析每个特征的统计量\n",
    "cols = data.columns.tolist()\n",
    "\n",
    "def calculate_statistics(data,features):\n",
    "    stats_dict = {}\n",
    "    for col in features:\n",
    "        feature = data[col]\n",
    "        stats_dict[col] = {\n",
    "            '均值': feature.mean(),\n",
    "            '中位数': feature.median(),\n",
    "            '标准差': feature.std(),\n",
    "            '方差': feature.var(),\n",
    "            '极差': feature.max() - data.min(),\n",
    "            '最小值': feature.min(),\n",
    "            '最大值': feature.max(),\n",
    "            '偏度': feature.skew(),\n",
    "            '峰度': feature.kurtosis(),\n",
    "        }\n",
    "    return pd.DataFrame(stats_dict).T\n",
    "\n",
    "feature_stats = calculate_statistics(data, cols)\n",
    "print(\"特征统计量:\")\n",
    "print(feature_stats.round(4))"
   ]
  },
  {
   "cell_type": "code",
   "execution_count": null,
   "id": "c4e0a098",
   "metadata": {},
   "outputs": [],
   "source": [
    "import matplotlib.pyplot as plt\n",
    "import numpy as np\n",
    "plt.figure(figsize=(6, 2))\n",
    "plt.hist(data.FloodProbability, bins=np.linspace(0.2825, 0.7275, 90), density=True)\n",
    "plt.ylabel('density')\n",
    "plt.xlabel('FloodProbability')\n",
    "plt.show()"
   ]
  },
  {
   "cell_type": "code",
   "execution_count": null,
   "id": "c4fdf1dc",
   "metadata": {},
   "outputs": [],
   "source": [
    "import numpy as np\n",
    "import matplotlib as plt\n",
    "from matplotlib.ticker import MaxNLocator\n",
    "features = [col for col in data.columns if col != 'FloodProbability']\n",
    "_, axs = plt.subplots(5, 4, figsize=(12, 12))\n",
    "for col, ax in zip(features, axs.ravel()):\n",
    "    vc = data[col].value_counts() / len(data)\n",
    "    ax.bar(vc.index, vc)\n",
    "\n",
    "    ax.set_title(col)\n",
    "    ax.xaxis.set_major_locator(MaxNLocator(integer=True)) # only integer labels\n",
    "plt.tight_layout()\n",
    "plt.show()"
   ]
  },
  {
   "cell_type": "code",
   "execution_count": null,
   "id": "c5b81c89",
   "metadata": {},
   "outputs": [],
   "source": [
    "import pandas as pd\n",
    "import matplotlib.pyplot as plt\n",
    "import seaborn as sns\n",
    "\n",
    "\n",
    "# Function for automated univariate analysis\n",
    "def univariate_analysis(data):\n",
    "    for column in data.columns:\n",
    "        print(f\"Univariate Analysis for Column: {column}\")\n",
    "        print(\"--------------------------------------------------\")\n",
    "        print(\"Data Type:\", data[column].dtype)\n",
    "        print(data[column].describe())  # Summary statistics\n",
    "\n",
    "        if data[column].dtype == 'object':\n",
    "            # Categorical columns: Show value counts\n",
    "            print(\"\\nValue Counts:\")\n",
    "            print(data[column].value_counts())\n",
    "            \n",
    "            # Bar plot\n",
    "            plt.figure(figsize=(8, 4))\n",
    "            sns.countplot(y=data[column])\n",
    "            plt.title(f'Bar Plot of {column}')\n",
    "            plt.show()\n",
    "        \n",
    "        else:\n",
    "            # Numeric columns: Show histogram and box plot\n",
    "            plt.figure(figsize=(12, 5))\n",
    "\n",
    "            # Histogram\n",
    "            plt.subplot(1, 2, 1)\n",
    "            data[column].plot(kind='hist', bins=10, color='skyblue', edgecolor='black')\n",
    "            plt.title(f'Histogram of {column}')\n",
    "            plt.xlabel(column)\n",
    "            \n",
    "            # Box plot\n",
    "            plt.subplot(1, 2, 2)\n",
    "            sns.boxplot(y=data[column])\n",
    "            plt.title(f'Box Plot of {column}')\n",
    "            \n",
    "            plt.show()\n",
    "        \n",
    "        print(\"\\n\\n\")\n",
    "\n",
    "# Call the function\n",
    "univariate_analysis(data)"
   ]
  },
  {
   "cell_type": "code",
   "execution_count": null,
   "id": "31174e6a",
   "metadata": {},
   "outputs": [],
   "source": [
    "correlation_matrix = data[cols].corr()\n",
    "\n",
    "plt.figure(figsize=(12, 8))\n",
    "sns.heatmap(correlation_matrix, annot=True, cmap='coolwarm', fmt='.2f')\n",
    "plt.title('Correlation Heatmap')\n",
    "plt.show()"
   ]
  },
  {
   "cell_type": "code",
   "execution_count": null,
   "id": "464a4a21",
   "metadata": {},
   "outputs": [],
   "source": [
    "import pandas as pd\n",
    "import matplotlib.pyplot as plt\n",
    "import seaborn as sns\n",
    "temp = data.FloodProbability.groupby(data[features].sum(axis=1)).mean()\n",
    "plt.scatter(temp.index, temp, s=1, c=(temp.index.isin(np.arange(72, 76))), cmap='coolwarm')\n",
    "plt.xlabel('sum')\n",
    "plt.ylabel('flood probability')\n",
    "plt.show()"
   ]
  }
 ],
 "metadata": {
  "kernelspec": {
   "display_name": "Python 3",
   "language": "python",
   "name": "python3"
  },
  "language_info": {
   "codemirror_mode": {
    "name": "ipython",
    "version": 3
   },
   "file_extension": ".py",
   "mimetype": "text/x-python",
   "name": "python",
   "nbconvert_exporter": "python",
   "pygments_lexer": "ipython3",
   "version": "3.11.5"
  }
 },
 "nbformat": 4,
 "nbformat_minor": 5
}
